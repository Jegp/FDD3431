{
 "cells": [
  {
   "cell_type": "markdown",
   "metadata": {},
   "source": [
    "## Goal\n",
    "\n",
    "* use the mathematical formulation of the optimization task,\n",
    "* formulate the indicator function and explain how it relates to the outcome\n",
    "of the classification,\n",
    "* predict and explain the outcome of using different kernels,\n",
    "* explain the effect of the C-value when using slack variables."
   ]
  },
  {
   "cell_type": "code",
   "execution_count": 1,
   "metadata": {},
   "outputs": [],
   "source": [
    "import numpy as np, random, math, scipy\n",
    "from scipy.optimize import minimize\n",
    "import matplotlib.pyplot as plt\n",
    "%matplotlib inline"
   ]
  },
  {
   "cell_type": "code",
   "execution_count": 2,
   "metadata": {},
   "outputs": [],
   "source": [
    "from functools import partial"
   ]
  },
  {
   "cell_type": "code",
   "execution_count": 9,
   "metadata": {},
   "outputs": [],
   "source": [
    "k_linear = lambda x, y: np.inner(x, y)\n",
    "k_poly = lambda x, y: (np.inner(x, y) + 1) ** 3\n",
    "k_rbf = lambda x, y: np.exp(- np.linalg.norm(x - y)**2 / 2 * 3 ** 2)"
   ]
  },
  {
   "cell_type": "code",
   "execution_count": 4,
   "metadata": {},
   "outputs": [],
   "source": [
    "def objective(inner, a):\n",
    "    return (.5 * a * a.reshape(-1, 1) * inner).sum() - a.sum()"
   ]
  },
  {
   "cell_type": "code",
   "execution_count": 5,
   "metadata": {},
   "outputs": [],
   "source": [
    "def zerofun(t, a):\n",
    "    return np.dot(a, t)"
   ]
  },
  {
   "cell_type": "code",
   "execution_count": 6,
   "metadata": {},
   "outputs": [],
   "source": [
    "def calc(k, x, t, c=1):\n",
    "    N = len(x)\n",
    "    start = np.zeros(N)\n",
    "    bounds=[(0, c) for b in range(N)]\n",
    "    constraint={'type':'eq', 'fun': partial(zerofun, t)}\n",
    "    p = np.multiply(np.einsum('i,j->ij', t, t), np.array([[k(m, n) for m in x] for n in x]))\n",
    "    cached_obj = partial(objective, p)\n",
    "    res = minimize(cached_obj, start, bounds=bounds, constraints=constraint)\n",
    "        \n",
    "    a = res['x']\n",
    "    indices = np.where(a > 10**-5)\n",
    "    ai = a[indices]\n",
    "    xi = inputs[indices]\n",
    "    ti = targets[indices]\n",
    "    b = (ai * ti * [k(xi[0], x) for x in xi]).sum() - ti[0]\n",
    "    def indicator(x, y):\n",
    "        return (ai * ti * np.array([k(np.array([x, y]), p) for p in xi])).sum() - b\n",
    "    return indicator"
   ]
  },
  {
   "cell_type": "code",
   "execution_count": 7,
   "metadata": {},
   "outputs": [],
   "source": [
    "def plot(class_a, class_b, indicator):\n",
    "    plt.plot([p[0] for p in class_a], [p[1] for p in class_a], 'b.')\n",
    "    plt.plot([p[0] for p in class_b], [p[1] for p in class_b], 'r.')\n",
    "    xgrid=np.linspace(-5, 5)\n",
    "    ygrid=np.linspace(-4, 4)\n",
    "    grid = np.array([[indicator(x, y) for x in xgrid] for y in ygrid])\n",
    "    plt.axis('equal')\n",
    "    plt.contour(xgrid, ygrid, grid, (-1, 0, 1), colors=('red', 'black', 'blue'), linewidths=(1, 3, 1))"
   ]
  },
  {
   "cell_type": "code",
   "execution_count": 13,
   "metadata": {},
   "outputs": [
    {
     "data": {
      "image/png": "[encoded data removed]",
      "text/plain": [
       "<Figure size 432x288 with 1 Axes>"
      ]
     },
     "metadata": {
      "needs_background": "light"
     },
     "output_type": "display_data"
    }
   ],
   "source": [
    "np.random.seed(100)\n",
    "class_a = np.concatenate((np.random.randn(10, 2) * 0.2 + [1.5, 0.5], np.random.randn(10, 2) * 0.2 + [-1.5, 0.5]))\n",
    "class_b = np.random.randn(20, 2) * 0.2 + [0.0, -0.5]\n",
    "inputs = np.concatenate((class_a, class_b))\n",
    "targets = np.concatenate((np.ones(class_a.shape[0]), -np.ones(class_b.shape[0])))\n",
    "N = inputs.shape[0]\n",
    "permute = list(range(N))\n",
    "random.shuffle(permute)\n",
    "inputs = inputs[permute, :]\n",
    "targets = targets[permute]\n",
    "\n",
    "indicator = calc(k_rbf, inputs, targets, c=1)\n",
    "plot(class_a, class_b, indicator)"
   ]
  },
  {
   "cell_type": "code",
   "execution_count": null,
   "metadata": {},
   "outputs": [],
   "source": []
  }
 ],
 "metadata": {
  "kernelspec": {
   "display_name": "Python 3",
   "language": "python",
   "name": "python3"
  },
  "language_info": {
   "codemirror_mode": {
    "name": "ipython",
    "version": 3
   },
   "file_extension": ".py",
   "mimetype": "text/x-python",
   "name": "python",
   "nbconvert_exporter": "python",
   "pygments_lexer": "ipython3",
   "version": "3.7.3"
  }
 },
 "nbformat": 4,
 "nbformat_minor": 4
}
