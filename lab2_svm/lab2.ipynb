{
 "cells": [
  {
   "cell_type": "markdown",
   "metadata": {},
   "source": [
    "## Goal\n",
    "\n",
    "* use the mathematical formulation of the optimization task,\n",
    "* formulate the indicator function and explain how it relates to the outcome\n",
    "of the classification,\n",
    "* predict and explain the outcome of using different kernels,\n",
    "* explain the effect of the C-value when using slack variables."
   ]
  },
  {
   "cell_type": "code",
   "execution_count": 1,
   "metadata": {},
   "outputs": [],
   "source": [
    "import numpy as np, random, math, scipy\n",
    "from scipy.optimize import minimize\n",
    "import matplotlib.pyplot as plt\n",
    "%matplotlib inline"
   ]
  },
  {
   "cell_type": "code",
   "execution_count": 239,
   "metadata": {},
   "outputs": [],
   "source": [
    "k_linear = lambda x, y: np.dot(x, y)"
   ]
  },
  {
   "cell_type": "code",
   "execution_count": 371,
   "metadata": {},
   "outputs": [],
   "source": [
    "def objective(inner, a):\n",
    "    return .5 * (a * inner).sum() - a.sum()"
   ]
  },
  {
   "cell_type": "code",
   "execution_count": 378,
   "metadata": {},
   "outputs": [],
   "source": [
    "def zerofun(t, a):\n",
    "    return np.dot(t, a)"
   ]
  },
  {
   "cell_type": "code",
   "execution_count": 373,
   "metadata": {},
   "outputs": [],
   "source": [
    "from functools import partial"
   ]
  },
  {
   "cell_type": "code",
   "execution_count": 451,
   "metadata": {},
   "outputs": [],
   "source": [
    "def calc(k, x, t):\n",
    "    N = len(x)\n",
    "    start = np.zeros(N)\n",
    "    bounds=[(0, None) for b in range(N)]\n",
    "    constraint={'type':'eq', 'fun':partial(zerofun, t)}\n",
    "    p = np.einsum('i,j->ij', t, t) * np.array([[k(m, n) for m in x] for n in x])\n",
    "    cached_obj = partial(objective, p)\n",
    "    return minimize(cached_obj, start, bounds=bounds, constraints=constraint)"
   ]
  },
  {
   "cell_type": "code",
   "execution_count": 454,
   "metadata": {},
   "outputs": [],
   "source": [
    "class_a = np.concatenate((np.random.randn(10, 2) * 0.2 + [1.5, 0.5], np.random.randn(10, 2) * 0.2 + [-1.5, 0.5]))\n",
    "class_b = np.random.randn(20, 2) * 0.2 + [0.0, -0.5]\n",
    "inputs = np.concatenate((class_a, class_b))\n",
    "targets = np.concatenate((np.ones(class_a.shape[0]), -np.ones(class_b.shape[0])))\n",
    "N = inputs.shape[0]\n",
    "permute = list(range(N))\n",
    "random.shuffle(permute)\n",
    "inputs = inputs[permute, :]\n",
    "targets = targets[permute]"
   ]
  },
  {
   "cell_type": "code",
   "execution_count": 455,
   "metadata": {},
   "outputs": [
    {
     "data": {
      "text/plain": [
       "     fun: -78371573.32194784\n",
       "     jac: array([ 6.,  6.,  4.,  6.,  2., 12.,  0.,  8.,  8., 10.,  2., 12.,  8.,\n",
       "        2.,  2.,  2., 12.,  4.,  6.,  6.,  8.,  8.,  2.,  4.,  4., 10.,\n",
       "       -2.,  6.,  2.,  6.,  8.,  4., -2.,  4.,  0.,  6.,  8.,  4.,  6.,\n",
       "        6.])\n",
       " message: 'Optimization terminated successfully.'\n",
       "    nfev: 985\n",
       "     nit: 22\n",
       "    njev: 22\n",
       "  status: 0\n",
       " success: True\n",
       "       x: array([6.40551289e-11, 2.58181652e-13, 2.78298316e-13, 4.84141741e-08,\n",
       "       1.10512769e-12, 1.01027844e-12, 3.83306061e-13, 5.59455748e-13,\n",
       "       1.45094987e-12, 7.96728680e-13, 1.04091513e+08, 3.11330484e-13,\n",
       "       1.63035881e-12, 9.76248537e+07, 0.00000000e+00, 3.06830260e-13,\n",
       "       1.29230910e-12, 2.15141977e-13, 7.79735189e-13, 1.25403621e-12,\n",
       "       1.62652387e-12, 1.22519022e-10, 4.59221345e-13, 1.19286549e+07,\n",
       "       1.42123867e-07, 9.29863357e-13, 2.59296006e+00, 4.23770465e-13,\n",
       "       1.78493422e-07, 8.69771571e-13, 1.14941547e-12, 8.06577014e-13,\n",
       "       1.83953165e+07, 7.36213610e-13, 8.34003823e-13, 9.81294220e-13,\n",
       "       1.49114201e-12, 1.87920246e-12, 2.67414113e-13, 4.15046485e-13])"
      ]
     },
     "execution_count": 455,
     "metadata": {},
     "output_type": "execute_result"
    }
   ],
   "source": [
    "res = calc(k_linear, inputs, targets)\n",
    "res"
   ]
  },
  {
   "cell_type": "code",
   "execution_count": 462,
   "metadata": {},
   "outputs": [],
   "source": [
    "a = res['x']\n",
    "indices = np.where(a > 10**-5)"
   ]
  },
  {
   "cell_type": "code",
   "execution_count": 474,
   "metadata": {},
   "outputs": [
    {
     "data": {
      "text/plain": [
       "array([-1.57079483,  0.11983581])"
      ]
     },
     "execution_count": 474,
     "metadata": {},
     "output_type": "execute_result"
    }
   ],
   "source": [
    "inputs[indices][0]"
   ]
  },
  {
   "cell_type": "code",
   "execution_count": null,
   "metadata": {},
   "outputs": [],
   "source": []
  },
  {
   "cell_type": "code",
   "execution_count": 481,
   "metadata": {},
   "outputs": [
    {
     "data": {
      "text/plain": [
       "array([ 2.58329843e+08, -1.22365049e+07, -2.45672822e+07, -6.59699476e+00,\n",
       "        6.24966134e+06])"
      ]
     },
     "execution_count": 481,
     "metadata": {},
     "output_type": "execute_result"
    }
   ],
   "source": [
    "b = a[indices] * targets[indices] * [k_linear(inputs[indices][0], inputs[i]) for i in indices[0]]\n",
    "b"
   ]
  },
  {
   "cell_type": "code",
   "execution_count": 482,
   "metadata": {},
   "outputs": [
    {
     "data": {
      "text/plain": [
       "array([ 2.58329843e+08, -1.22365049e+07, -2.45672822e+07, -6.59699476e+00,\n",
       "        6.24966134e+06])"
      ]
     },
     "execution_count": 482,
     "metadata": {},
     "output_type": "execute_result"
    }
   ],
   "source": []
  }
 ],
 "metadata": {
  "kernelspec": {
   "display_name": "Python 3",
   "language": "python",
   "name": "python3"
  },
  "language_info": {
   "codemirror_mode": {
    "name": "ipython",
    "version": 3
   },
   "file_extension": ".py",
   "mimetype": "text/x-python",
   "name": "python",
   "nbconvert_exporter": "python",
   "pygments_lexer": "ipython3",
   "version": "3.7.3"
  }
 },
 "nbformat": 4,
 "nbformat_minor": 4
}
