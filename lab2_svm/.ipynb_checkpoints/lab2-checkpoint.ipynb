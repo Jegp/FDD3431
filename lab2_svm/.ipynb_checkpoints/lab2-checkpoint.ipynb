{
 "cells": [
  {
   "cell_type": "markdown",
   "metadata": {},
   "source": [
    "## Goal\n",
    "\n",
    "* use the mathematical formulation of the optimization task,\n",
    "* formulate the indicator function and explain how it relates to the outcome\n",
    "of the classification,\n",
    "* predict and explain the outcome of using different kernels,\n",
    "* explain the effect of the C-value when using slack variables."
   ]
  },
  {
   "cell_type": "code",
   "execution_count": 1,
   "metadata": {},
   "outputs": [],
   "source": [
    "import numpy as np, random, math, scipy\n",
    "from scipy.optimize import minimize\n",
    "import matplotlib.pyplot as plt\n",
    "%matplotlib inline"
   ]
  },
  {
   "cell_type": "code",
   "execution_count": 239,
   "metadata": {},
   "outputs": [],
   "source": [
    "k_linear = lambda x, y: np.dot(x, y)"
   ]
  },
  {
   "cell_type": "code",
   "execution_count": 371,
   "metadata": {},
   "outputs": [],
   "source": [
    "def objective(inner, a):\n",
    "    return .5 * (a * inner).sum() - a.sum()"
   ]
  },
  {
   "cell_type": "code",
   "execution_count": 378,
   "metadata": {},
   "outputs": [],
   "source": [
    "def zerofun(t, a):\n",
    "    return np.dot(t, a)"
   ]
  },
  {
   "cell_type": "code",
   "execution_count": 373,
   "metadata": {},
   "outputs": [],
   "source": [
    "from functools import partial"
   ]
  },
  {
   "cell_type": "code",
   "execution_count": 392,
   "metadata": {},
   "outputs": [],
   "source": [
    "def calc(k, x, t):\n",
    "    N = len(x)\n",
    "    start = np.zeros(N)\n",
    "    bounds=[(0, None) for b in range(N)]\n",
    "    constraint={'type':'eq', 'fun':partial(zerofun, t)}\n",
    "    p = np.einsum('i,j->ij', t, t) * np.array([[k(m, n) for m in x] for n in x])\n",
    "    cached_obj = partial(objective, p)\n",
    "    ret = minimize(cached_obj, start, bounds=bounds, constraints=constraint)\n",
    "    a = ret['x']\n",
    "    indices = np.where(a < 10**-5)\n",
    "    return [(a[i], t[i]) for i in indices]"
   ]
  },
  {
   "cell_type": "code",
   "execution_count": 393,
   "metadata": {},
   "outputs": [],
   "source": [
    "class_a = np.concatenate((np.random.randn(10, 2) * 0.2 + [1.5, 0.5], np.random.randn(10, 2) * 0.2 + [-1.5, 0.5]))\n",
    "class_b = np.random.randn(20, 2) * 0.2 + [0.0, -0.5]\n",
    "inputs = np.concatenate((class_a, class_b))\n",
    "targets = np.concatenate((np.ones(class_a.shape[0]), -np.ones(class_b.shape[0])))\n",
    "N = inputs.shape[0]\n",
    "permute = list(range(N))\n",
    "random.shuffle(permute)\n",
    "inputs = inputs[permute, :]\n",
    "targets = targets[permute]"
   ]
  },
  {
   "cell_type": "code",
   "execution_count": 394,
   "metadata": {},
   "outputs": [
    {
     "data": {
      "text/plain": [
       "[(array([2.18106958e-11, 1.28941303e-10, 1.28521817e-11, 5.38419460e-09,\n",
       "         1.94070644e-12, 1.00178633e-06, 9.66991077e-11, 7.72705056e-10,\n",
       "         5.27171888e-12, 5.84680803e-06, 2.40664853e-11, 3.57433049e-11,\n",
       "         1.58224944e-11, 1.53192916e-11, 3.94785304e-06, 2.01442905e-11,\n",
       "         4.61827882e-12, 1.19683175e-11, 1.71966974e-11, 1.94890101e-11,\n",
       "         1.16997202e-10]),\n",
       "  array([ 1.,  1.,  1., -1., -1.,  1., -1.,  1., -1.,  1., -1.,  1.,  1.,\n",
       "         -1., -1., -1., -1., -1.,  1., -1., -1.]))]"
      ]
     },
     "execution_count": 394,
     "metadata": {},
     "output_type": "execute_result"
    }
   ],
   "source": [
    "calc(k_linear, inputs, targets)"
   ]
  }
 ],
 "metadata": {
  "kernelspec": {
   "display_name": "Python 3",
   "language": "python",
   "name": "python3"
  },
  "language_info": {
   "codemirror_mode": {
    "name": "ipython",
    "version": 3
   },
   "file_extension": ".py",
   "mimetype": "text/x-python",
   "name": "python",
   "nbconvert_exporter": "python",
   "pygments_lexer": "ipython3",
   "version": "3.7.3"
  }
 },
 "nbformat": 4,
 "nbformat_minor": 4
}
