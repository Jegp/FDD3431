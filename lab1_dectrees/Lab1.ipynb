{
 "cells": [
  {
   "cell_type": "code",
   "execution_count": 1,
   "metadata": {},
   "outputs": [],
   "source": [
    "import python.monkdata as monkdata"
   ]
  },
  {
   "cell_type": "code",
   "execution_count": 2,
   "metadata": {},
   "outputs": [
    {
     "data": {
      "text/plain": [
       "(ID 4 -({A1: 1, A2: 1, A3: 1, A4: 1, A5: 2, A6: 2}),\n",
       " ID 7 -({A1: 1, A2: 1, A3: 1, A4: 1, A5: 4, A6: 1}),\n",
       " ID 9 -({A1: 1, A2: 1, A3: 1, A4: 2, A5: 1, A6: 1}),\n",
       " ID 10 -({A1: 1, A2: 1, A3: 1, A4: 2, A5: 1, A6: 2}),\n",
       " ID 11 -({A1: 1, A2: 1, A3: 1, A4: 2, A5: 2, A6: 1}),\n",
       " ID 13 -({A1: 1, A2: 1, A3: 1, A4: 2, A5: 3, A6: 1}),\n",
       " ID 15 -({A1: 1, A2: 1, A3: 1, A4: 2, A5: 4, A6: 1}),\n",
       " ID 19 -({A1: 1, A2: 1, A3: 1, A4: 3, A5: 2, A6: 1}),\n",
       " ID 23 -({A1: 1, A2: 1, A3: 1, A4: 3, A5: 4, A6: 1}),\n",
       " ID 25 -({A1: 1, A2: 1, A3: 2, A4: 1, A5: 1, A6: 1}),\n",
       " ID 26 -({A1: 1, A2: 1, A3: 2, A4: 1, A5: 1, A6: 2}),\n",
       " ID 37 -({A1: 1, A2: 1, A3: 2, A4: 2, A5: 3, A6: 1}),\n",
       " ID 39 -({A1: 1, A2: 1, A3: 2, A4: 2, A5: 4, A6: 1}),\n",
       " ID 40 +({A1: 1, A2: 1, A3: 2, A4: 2, A5: 4, A6: 2}),\n",
       " ID 42 -({A1: 1, A2: 1, A3: 2, A4: 3, A5: 1, A6: 2}),\n",
       " ID 44 +({A1: 1, A2: 1, A3: 2, A4: 3, A5: 2, A6: 2}),\n",
       " ID 50 -({A1: 1, A2: 2, A3: 1, A4: 1, A5: 1, A6: 2}),\n",
       " ID 58 -({A1: 1, A2: 2, A3: 1, A4: 2, A5: 1, A6: 2}),\n",
       " ID 60 +({A1: 1, A2: 2, A3: 1, A4: 2, A5: 2, A6: 2}),\n",
       " ID 61 -({A1: 1, A2: 2, A3: 1, A4: 2, A5: 3, A6: 1}),\n",
       " ID 62 +({A1: 1, A2: 2, A3: 1, A4: 2, A5: 3, A6: 2}),\n",
       " ID 63 -({A1: 1, A2: 2, A3: 1, A4: 2, A5: 4, A6: 1}),\n",
       " ID 65 -({A1: 1, A2: 2, A3: 1, A4: 3, A5: 1, A6: 1}),\n",
       " ID 66 -({A1: 1, A2: 2, A3: 1, A4: 3, A5: 1, A6: 2}),\n",
       " ID 68 +({A1: 1, A2: 2, A3: 1, A4: 3, A5: 2, A6: 2}),\n",
       " ID 69 -({A1: 1, A2: 2, A3: 1, A4: 3, A5: 3, A6: 1}),\n",
       " ID 70 +({A1: 1, A2: 2, A3: 1, A4: 3, A5: 3, A6: 2}),\n",
       " ID 71 -({A1: 1, A2: 2, A3: 1, A4: 3, A5: 4, A6: 1}),\n",
       " ID 72 +({A1: 1, A2: 2, A3: 1, A4: 3, A5: 4, A6: 2}),\n",
       " ID 75 -({A1: 1, A2: 2, A3: 2, A4: 1, A5: 2, A6: 1}),\n",
       " ID 79 -({A1: 1, A2: 2, A3: 2, A4: 1, A5: 4, A6: 1}),\n",
       " ID 85 +({A1: 1, A2: 2, A3: 2, A4: 2, A5: 3, A6: 1}),\n",
       " ID 87 +({A1: 1, A2: 2, A3: 2, A4: 2, A5: 4, A6: 1}),\n",
       " ID 89 -({A1: 1, A2: 2, A3: 2, A4: 3, A5: 1, A6: 1}),\n",
       " ID 90 +({A1: 1, A2: 2, A3: 2, A4: 3, A5: 1, A6: 2}),\n",
       " ID 93 +({A1: 1, A2: 2, A3: 2, A4: 3, A5: 3, A6: 1}),\n",
       " ID 94 -({A1: 1, A2: 2, A3: 2, A4: 3, A5: 3, A6: 2}),\n",
       " ID 95 +({A1: 1, A2: 2, A3: 2, A4: 3, A5: 4, A6: 1}),\n",
       " ID 96 -({A1: 1, A2: 2, A3: 2, A4: 3, A5: 4, A6: 2}),\n",
       " ID 98 -({A1: 1, A2: 3, A3: 1, A4: 1, A5: 1, A6: 2}),\n",
       " ID 100 -({A1: 1, A2: 3, A3: 1, A4: 1, A5: 2, A6: 2}),\n",
       " ID 101 -({A1: 1, A2: 3, A3: 1, A4: 1, A5: 3, A6: 1}),\n",
       " ID 102 -({A1: 1, A2: 3, A3: 1, A4: 1, A5: 3, A6: 2}),\n",
       " ID 107 -({A1: 1, A2: 3, A3: 1, A4: 2, A5: 2, A6: 1}),\n",
       " ID 108 +({A1: 1, A2: 3, A3: 1, A4: 2, A5: 2, A6: 2}),\n",
       " ID 110 +({A1: 1, A2: 3, A3: 1, A4: 2, A5: 3, A6: 2}),\n",
       " ID 111 -({A1: 1, A2: 3, A3: 1, A4: 2, A5: 4, A6: 1}),\n",
       " ID 116 +({A1: 1, A2: 3, A3: 1, A4: 3, A5: 2, A6: 2}),\n",
       " ID 117 -({A1: 1, A2: 3, A3: 1, A4: 3, A5: 3, A6: 1}),\n",
       " ID 120 +({A1: 1, A2: 3, A3: 1, A4: 3, A5: 4, A6: 2}),\n",
       " ID 125 -({A1: 1, A2: 3, A3: 2, A4: 1, A5: 3, A6: 1}),\n",
       " ID 126 +({A1: 1, A2: 3, A3: 2, A4: 1, A5: 3, A6: 2}),\n",
       " ID 127 -({A1: 1, A2: 3, A3: 2, A4: 1, A5: 4, A6: 1}),\n",
       " ID 130 +({A1: 1, A2: 3, A3: 2, A4: 2, A5: 1, A6: 2}),\n",
       " ID 134 -({A1: 1, A2: 3, A3: 2, A4: 2, A5: 3, A6: 2}),\n",
       " ID 136 -({A1: 1, A2: 3, A3: 2, A4: 2, A5: 4, A6: 2}),\n",
       " ID 139 +({A1: 1, A2: 3, A3: 2, A4: 3, A5: 2, A6: 1}),\n",
       " ID 145 -({A1: 2, A2: 1, A3: 1, A4: 1, A5: 1, A6: 1}),\n",
       " ID 148 -({A1: 2, A2: 1, A3: 1, A4: 1, A5: 2, A6: 2}),\n",
       " ID 149 -({A1: 2, A2: 1, A3: 1, A4: 1, A5: 3, A6: 1}),\n",
       " ID 156 +({A1: 2, A2: 1, A3: 1, A4: 2, A5: 2, A6: 2}),\n",
       " ID 162 -({A1: 2, A2: 1, A3: 1, A4: 3, A5: 1, A6: 2}),\n",
       " ID 164 +({A1: 2, A2: 1, A3: 1, A4: 3, A5: 2, A6: 2}),\n",
       " ID 166 +({A1: 2, A2: 1, A3: 1, A4: 3, A5: 3, A6: 2}),\n",
       " ID 167 -({A1: 2, A2: 1, A3: 1, A4: 3, A5: 4, A6: 1}),\n",
       " ID 169 -({A1: 2, A2: 1, A3: 2, A4: 1, A5: 1, A6: 1}),\n",
       " ID 172 +({A1: 2, A2: 1, A3: 2, A4: 1, A5: 2, A6: 2}),\n",
       " ID 175 -({A1: 2, A2: 1, A3: 2, A4: 1, A5: 4, A6: 1}),\n",
       " ID 179 +({A1: 2, A2: 1, A3: 2, A4: 2, A5: 2, A6: 1}),\n",
       " ID 184 -({A1: 2, A2: 1, A3: 2, A4: 2, A5: 4, A6: 2}),\n",
       " ID 185 -({A1: 2, A2: 1, A3: 2, A4: 3, A5: 1, A6: 1}),\n",
       " ID 186 +({A1: 2, A2: 1, A3: 2, A4: 3, A5: 1, A6: 2}),\n",
       " ID 188 -({A1: 2, A2: 1, A3: 2, A4: 3, A5: 2, A6: 2}),\n",
       " ID 190 -({A1: 2, A2: 1, A3: 2, A4: 3, A5: 3, A6: 2}),\n",
       " ID 192 -({A1: 2, A2: 1, A3: 2, A4: 3, A5: 4, A6: 2}),\n",
       " ID 197 -({A1: 2, A2: 2, A3: 1, A4: 1, A5: 3, A6: 1}),\n",
       " ID 200 +({A1: 2, A2: 2, A3: 1, A4: 1, A5: 4, A6: 2}),\n",
       " ID 201 -({A1: 2, A2: 2, A3: 1, A4: 2, A5: 1, A6: 1}),\n",
       " ID 205 +({A1: 2, A2: 2, A3: 1, A4: 2, A5: 3, A6: 1}),\n",
       " ID 213 +({A1: 2, A2: 2, A3: 1, A4: 3, A5: 3, A6: 1}),\n",
       " ID 214 -({A1: 2, A2: 2, A3: 1, A4: 3, A5: 3, A6: 2}),\n",
       " ID 215 +({A1: 2, A2: 2, A3: 1, A4: 3, A5: 4, A6: 1}),\n",
       " ID 217 -({A1: 2, A2: 2, A3: 2, A4: 1, A5: 1, A6: 1}),\n",
       " ID 220 -({A1: 2, A2: 2, A3: 2, A4: 1, A5: 2, A6: 2}),\n",
       " ID 222 -({A1: 2, A2: 2, A3: 2, A4: 1, A5: 3, A6: 2}),\n",
       " ID 223 +({A1: 2, A2: 2, A3: 2, A4: 1, A5: 4, A6: 1}),\n",
       " ID 224 -({A1: 2, A2: 2, A3: 2, A4: 1, A5: 4, A6: 2}),\n",
       " ID 225 +({A1: 2, A2: 2, A3: 2, A4: 2, A5: 1, A6: 1}),\n",
       " ID 228 -({A1: 2, A2: 2, A3: 2, A4: 2, A5: 2, A6: 2}),\n",
       " ID 229 -({A1: 2, A2: 2, A3: 2, A4: 2, A5: 3, A6: 1}),\n",
       " ID 233 +({A1: 2, A2: 2, A3: 2, A4: 3, A5: 1, A6: 1}),\n",
       " ID 235 -({A1: 2, A2: 2, A3: 2, A4: 3, A5: 2, A6: 1}),\n",
       " ID 236 -({A1: 2, A2: 2, A3: 2, A4: 3, A5: 2, A6: 2}),\n",
       " ID 240 -({A1: 2, A2: 2, A3: 2, A4: 3, A5: 4, A6: 2}),\n",
       " ID 241 -({A1: 2, A2: 3, A3: 1, A4: 1, A5: 1, A6: 1}),\n",
       " ID 242 -({A1: 2, A2: 3, A3: 1, A4: 1, A5: 1, A6: 2}),\n",
       " ID 246 +({A1: 2, A2: 3, A3: 1, A4: 1, A5: 3, A6: 2}),\n",
       " ID 249 -({A1: 2, A2: 3, A3: 1, A4: 2, A5: 1, A6: 1}),\n",
       " ID 253 +({A1: 2, A2: 3, A3: 1, A4: 2, A5: 3, A6: 1}),\n",
       " ID 254 -({A1: 2, A2: 3, A3: 1, A4: 2, A5: 3, A6: 2}),\n",
       " ID 256 -({A1: 2, A2: 3, A3: 1, A4: 2, A5: 4, A6: 2}),\n",
       " ID 258 +({A1: 2, A2: 3, A3: 1, A4: 3, A5: 1, A6: 2}),\n",
       " ID 259 +({A1: 2, A2: 3, A3: 1, A4: 3, A5: 2, A6: 1}),\n",
       " ID 263 +({A1: 2, A2: 3, A3: 1, A4: 3, A5: 4, A6: 1}),\n",
       " ID 266 +({A1: 2, A2: 3, A3: 2, A4: 1, A5: 1, A6: 2}),\n",
       " ID 267 +({A1: 2, A2: 3, A3: 2, A4: 1, A5: 2, A6: 1}),\n",
       " ID 269 +({A1: 2, A2: 3, A3: 2, A4: 1, A5: 3, A6: 1}),\n",
       " ID 272 -({A1: 2, A2: 3, A3: 2, A4: 1, A5: 4, A6: 2}),\n",
       " ID 273 +({A1: 2, A2: 3, A3: 2, A4: 2, A5: 1, A6: 1}),\n",
       " ID 275 -({A1: 2, A2: 3, A3: 2, A4: 2, A5: 2, A6: 1}),\n",
       " ID 278 -({A1: 2, A2: 3, A3: 2, A4: 2, A5: 3, A6: 2}),\n",
       " ID 285 -({A1: 2, A2: 3, A3: 2, A4: 3, A5: 3, A6: 1}),\n",
       " ID 286 -({A1: 2, A2: 3, A3: 2, A4: 3, A5: 3, A6: 2}),\n",
       " ID 288 -({A1: 2, A2: 3, A3: 2, A4: 3, A5: 4, A6: 2}),\n",
       " ID 295 -({A1: 3, A2: 1, A3: 1, A4: 1, A5: 4, A6: 1}),\n",
       " ID 298 -({A1: 3, A2: 1, A3: 1, A4: 2, A5: 1, A6: 2}),\n",
       " ID 300 +({A1: 3, A2: 1, A3: 1, A4: 2, A5: 2, A6: 2}),\n",
       " ID 302 +({A1: 3, A2: 1, A3: 1, A4: 2, A5: 3, A6: 2}),\n",
       " ID 303 -({A1: 3, A2: 1, A3: 1, A4: 2, A5: 4, A6: 1}),\n",
       " ID 304 +({A1: 3, A2: 1, A3: 1, A4: 2, A5: 4, A6: 2}),\n",
       " ID 305 -({A1: 3, A2: 1, A3: 1, A4: 3, A5: 1, A6: 1}),\n",
       " ID 306 -({A1: 3, A2: 1, A3: 1, A4: 3, A5: 1, A6: 2}),\n",
       " ID 308 +({A1: 3, A2: 1, A3: 1, A4: 3, A5: 2, A6: 2}),\n",
       " ID 310 +({A1: 3, A2: 1, A3: 1, A4: 3, A5: 3, A6: 2}),\n",
       " ID 313 -({A1: 3, A2: 1, A3: 2, A4: 1, A5: 1, A6: 1}),\n",
       " ID 316 +({A1: 3, A2: 1, A3: 2, A4: 1, A5: 2, A6: 2}),\n",
       " ID 317 -({A1: 3, A2: 1, A3: 2, A4: 1, A5: 3, A6: 1}),\n",
       " ID 318 +({A1: 3, A2: 1, A3: 2, A4: 1, A5: 3, A6: 2}),\n",
       " ID 319 -({A1: 3, A2: 1, A3: 2, A4: 1, A5: 4, A6: 1}),\n",
       " ID 320 +({A1: 3, A2: 1, A3: 2, A4: 1, A5: 4, A6: 2}),\n",
       " ID 323 +({A1: 3, A2: 1, A3: 2, A4: 2, A5: 2, A6: 1}),\n",
       " ID 330 +({A1: 3, A2: 1, A3: 2, A4: 3, A5: 1, A6: 2}),\n",
       " ID 331 +({A1: 3, A2: 1, A3: 2, A4: 3, A5: 2, A6: 1}),\n",
       " ID 332 -({A1: 3, A2: 1, A3: 2, A4: 3, A5: 2, A6: 2}),\n",
       " ID 336 -({A1: 3, A2: 1, A3: 2, A4: 3, A5: 4, A6: 2}),\n",
       " ID 338 -({A1: 3, A2: 2, A3: 1, A4: 1, A5: 1, A6: 2}),\n",
       " ID 340 +({A1: 3, A2: 2, A3: 1, A4: 1, A5: 2, A6: 2}),\n",
       " ID 341 -({A1: 3, A2: 2, A3: 1, A4: 1, A5: 3, A6: 1}),\n",
       " ID 342 +({A1: 3, A2: 2, A3: 1, A4: 1, A5: 3, A6: 2}),\n",
       " ID 346 +({A1: 3, A2: 2, A3: 1, A4: 2, A5: 1, A6: 2}),\n",
       " ID 347 +({A1: 3, A2: 2, A3: 1, A4: 2, A5: 2, A6: 1}),\n",
       " ID 353 -({A1: 3, A2: 2, A3: 1, A4: 3, A5: 1, A6: 1}),\n",
       " ID 355 +({A1: 3, A2: 2, A3: 1, A4: 3, A5: 2, A6: 1}),\n",
       " ID 357 +({A1: 3, A2: 2, A3: 1, A4: 3, A5: 3, A6: 1}),\n",
       " ID 358 -({A1: 3, A2: 2, A3: 1, A4: 3, A5: 3, A6: 2}),\n",
       " ID 361 -({A1: 3, A2: 2, A3: 2, A4: 1, A5: 1, A6: 1}),\n",
       " ID 364 -({A1: 3, A2: 2, A3: 2, A4: 1, A5: 2, A6: 2}),\n",
       " ID 365 +({A1: 3, A2: 2, A3: 2, A4: 1, A5: 3, A6: 1}),\n",
       " ID 366 -({A1: 3, A2: 2, A3: 2, A4: 1, A5: 3, A6: 2}),\n",
       " ID 369 +({A1: 3, A2: 2, A3: 2, A4: 2, A5: 1, A6: 1}),\n",
       " ID 371 -({A1: 3, A2: 2, A3: 2, A4: 2, A5: 2, A6: 1}),\n",
       " ID 372 -({A1: 3, A2: 2, A3: 2, A4: 2, A5: 2, A6: 2}),\n",
       " ID 374 -({A1: 3, A2: 2, A3: 2, A4: 2, A5: 3, A6: 2}),\n",
       " ID 377 +({A1: 3, A2: 2, A3: 2, A4: 3, A5: 1, A6: 1}),\n",
       " ID 382 -({A1: 3, A2: 2, A3: 2, A4: 3, A5: 3, A6: 2}),\n",
       " ID 384 -({A1: 3, A2: 2, A3: 2, A4: 3, A5: 4, A6: 2}),\n",
       " ID 385 -({A1: 3, A2: 3, A3: 1, A4: 1, A5: 1, A6: 1}),\n",
       " ID 387 -({A1: 3, A2: 3, A3: 1, A4: 1, A5: 2, A6: 1}),\n",
       " ID 389 -({A1: 3, A2: 3, A3: 1, A4: 1, A5: 3, A6: 1}),\n",
       " ID 390 +({A1: 3, A2: 3, A3: 1, A4: 1, A5: 3, A6: 2}),\n",
       " ID 398 -({A1: 3, A2: 3, A3: 1, A4: 2, A5: 3, A6: 2}),\n",
       " ID 409 -({A1: 3, A2: 3, A3: 2, A4: 1, A5: 1, A6: 1}),\n",
       " ID 417 +({A1: 3, A2: 3, A3: 2, A4: 2, A5: 1, A6: 1}),\n",
       " ID 419 -({A1: 3, A2: 3, A3: 2, A4: 2, A5: 2, A6: 1}),\n",
       " ID 421 -({A1: 3, A2: 3, A3: 2, A4: 2, A5: 3, A6: 1}),\n",
       " ID 422 -({A1: 3, A2: 3, A3: 2, A4: 2, A5: 3, A6: 2}),\n",
       " ID 425 +({A1: 3, A2: 3, A3: 2, A4: 3, A5: 1, A6: 1}),\n",
       " ID 427 -({A1: 3, A2: 3, A3: 2, A4: 3, A5: 2, A6: 1}),\n",
       " ID 432 -({A1: 3, A2: 3, A3: 2, A4: 3, A5: 4, A6: 2}))"
      ]
     },
     "execution_count": 2,
     "metadata": {},
     "output_type": "execute_result"
    }
   ],
   "source": [
    "monkdata.monk2"
   ]
  },
  {
   "cell_type": "markdown",
   "metadata": {},
   "source": [
    "## Assignment 0\n",
    "\n",
    "Monk1 is modelled over $(a_1 = a_2) \\lor (a_5 = 1)$. \n",
    "Monk2 data is described by $a_i = 1$ for exactly two of $i \\in {1, 2, 3, 4, 5, 6}$.\n",
    "Monk3 data consists of $(a_5 = 1 \\land a_4 = 1) \\lor (a_5 \\neq 4 \\land a_2 \\neq 3)$.\n",
    "\n",
    "Monk2 is the most difficult to learn, because the entropy measure depends on inconsistent features. Meaning, the decision on whether to base the boundary on a certain feature $f$ changes for each data entry."
   ]
  },
  {
   "cell_type": "markdown",
   "metadata": {},
   "source": [
    "## Assignment 1"
   ]
  },
  {
   "cell_type": "code",
   "execution_count": 3,
   "metadata": {},
   "outputs": [],
   "source": [
    "import python.dtree as dtree"
   ]
  },
  {
   "cell_type": "code",
   "execution_count": 4,
   "metadata": {},
   "outputs": [],
   "source": [
    "dtree.entropy?"
   ]
  },
  {
   "cell_type": "code",
   "execution_count": 5,
   "metadata": {},
   "outputs": [
    {
     "data": {
      "text/plain": [
       "1.0"
      ]
     },
     "execution_count": 5,
     "metadata": {},
     "output_type": "execute_result"
    }
   ],
   "source": [
    "dtree.entropy(monkdata.monk1)"
   ]
  },
  {
   "cell_type": "code",
   "execution_count": 6,
   "metadata": {},
   "outputs": [
    {
     "data": {
      "text/plain": [
       "0.957117428264771"
      ]
     },
     "execution_count": 6,
     "metadata": {},
     "output_type": "execute_result"
    }
   ],
   "source": [
    "dtree.entropy(monkdata.monk2)"
   ]
  },
  {
   "cell_type": "code",
   "execution_count": 7,
   "metadata": {},
   "outputs": [
    {
     "data": {
      "text/plain": [
       "0.9998061328047111"
      ]
     },
     "execution_count": 7,
     "metadata": {},
     "output_type": "execute_result"
    }
   ],
   "source": [
    "dtree.entropy(monkdata.monk3)"
   ]
  },
  {
   "cell_type": "markdown",
   "metadata": {},
   "source": [
    "## Assignment 2"
   ]
  },
  {
   "cell_type": "code",
   "execution_count": 8,
   "metadata": {},
   "outputs": [],
   "source": [
    "import numpy as np\n",
    "import scipy.stats as stats"
   ]
  },
  {
   "cell_type": "code",
   "execution_count": 9,
   "metadata": {},
   "outputs": [
    {
     "data": {
      "text/plain": [
       "4.412662410184567"
      ]
     },
     "execution_count": 9,
     "metadata": {},
     "output_type": "execute_result"
    }
   ],
   "source": [
    "stats.entropy(np.random.uniform(0, 1, size=100))"
   ]
  },
  {
   "cell_type": "code",
   "execution_count": 10,
   "metadata": {},
   "outputs": [
    {
     "data": {
      "text/plain": [
       "4.008100375348551"
      ]
     },
     "execution_count": 10,
     "metadata": {},
     "output_type": "execute_result"
    }
   ],
   "source": [
    "stats.entropy(np.random.poisson(size=100))"
   ]
  },
  {
   "cell_type": "code",
   "execution_count": 11,
   "metadata": {},
   "outputs": [
    {
     "data": {
      "text/plain": [
       "4.60517018598809"
      ]
     },
     "execution_count": 11,
     "metadata": {},
     "output_type": "execute_result"
    }
   ],
   "source": [
    "stats.entropy(np.ones(100))"
   ]
  },
  {
   "cell_type": "code",
   "execution_count": 12,
   "metadata": {},
   "outputs": [
    {
     "data": {
      "text/plain": [
       "4.595119850134591"
      ]
     },
     "execution_count": 12,
     "metadata": {},
     "output_type": "execute_result"
    }
   ],
   "source": [
    "stats.entropy(np.zeros(99) + [1])"
   ]
  },
  {
   "cell_type": "code",
   "execution_count": 13,
   "metadata": {},
   "outputs": [
    {
     "data": {
      "text/plain": [
       "3.9120230054281455"
      ]
     },
     "execution_count": 13,
     "metadata": {},
     "output_type": "execute_result"
    }
   ],
   "source": [
    "stats.entropy(np.ones(50) + np.zeros(50))"
   ]
  },
  {
   "cell_type": "markdown",
   "metadata": {},
   "source": [
    "## Assignment 3"
   ]
  },
  {
   "cell_type": "code",
   "execution_count": 14,
   "metadata": {},
   "outputs": [],
   "source": [
    "import pandas as pd"
   ]
  },
  {
   "cell_type": "code",
   "execution_count": 15,
   "metadata": {},
   "outputs": [
    {
     "data": {
      "text/html": [
       "<div>\n",
       "<style scoped>\n",
       "    .dataframe tbody tr th:only-of-type {\n",
       "        vertical-align: middle;\n",
       "    }\n",
       "\n",
       "    .dataframe tbody tr th {\n",
       "        vertical-align: top;\n",
       "    }\n",
       "\n",
       "    .dataframe thead th {\n",
       "        text-align: right;\n",
       "    }\n",
       "</style>\n",
       "<table border=\"1\" class=\"dataframe\">\n",
       "  <thead>\n",
       "    <tr style=\"text-align: right;\">\n",
       "      <th></th>\n",
       "      <th>1</th>\n",
       "      <th>2</th>\n",
       "      <th>3</th>\n",
       "      <th>4</th>\n",
       "      <th>5</th>\n",
       "      <th>6</th>\n",
       "    </tr>\n",
       "  </thead>\n",
       "  <tbody>\n",
       "    <tr>\n",
       "      <th>0</th>\n",
       "      <td>0.075273</td>\n",
       "      <td>0.005838</td>\n",
       "      <td>0.004708</td>\n",
       "      <td>0.026312</td>\n",
       "      <td>0.287031</td>\n",
       "      <td>0.000758</td>\n",
       "    </tr>\n",
       "    <tr>\n",
       "      <th>1</th>\n",
       "      <td>0.003756</td>\n",
       "      <td>0.002458</td>\n",
       "      <td>0.001056</td>\n",
       "      <td>0.015664</td>\n",
       "      <td>0.017277</td>\n",
       "      <td>0.006248</td>\n",
       "    </tr>\n",
       "    <tr>\n",
       "      <th>2</th>\n",
       "      <td>0.007121</td>\n",
       "      <td>0.293736</td>\n",
       "      <td>0.000831</td>\n",
       "      <td>0.002892</td>\n",
       "      <td>0.255912</td>\n",
       "      <td>0.007077</td>\n",
       "    </tr>\n",
       "  </tbody>\n",
       "</table>\n",
       "</div>"
      ],
      "text/plain": [
       "          1         2         3         4         5         6\n",
       "0  0.075273  0.005838  0.004708  0.026312  0.287031  0.000758\n",
       "1  0.003756  0.002458  0.001056  0.015664  0.017277  0.006248\n",
       "2  0.007121  0.293736  0.000831  0.002892  0.255912  0.007077"
      ]
     },
     "execution_count": 15,
     "metadata": {},
     "output_type": "execute_result"
    }
   ],
   "source": [
    "df = pd.DataFrame(columns=[str(i) for i in range(1, 7)])\n",
    "for i, dataset in enumerate([monkdata.monk1, monkdata.monk2, monkdata.monk3]):\n",
    "    gain = []\n",
    "    for attribute in monkdata.attributes:\n",
    "        gain.append(dtree.averageGain(dataset, attribute))\n",
    "    df.loc[i] = gain\n",
    "df"
   ]
  },
  {
   "cell_type": "markdown",
   "metadata": {},
   "source": [
    "Based on the above table, $a_5$ should be used as a root node in Monk1, $a_5$ in Monk2, and $a_2$ in Monk3."
   ]
  },
  {
   "cell_type": "markdown",
   "metadata": {},
   "source": [
    "Information gain as a heuristic for splitting makes sense, because we are trying to find decision boundaries that separate the most data into output labels. By splitting on the boundaries that contains the most information, we reduce the problem as much as possible."
   ]
  },
  {
   "cell_type": "markdown",
   "metadata": {},
   "source": [
    "## Assignment 5"
   ]
  },
  {
   "cell_type": "code",
   "execution_count": 20,
   "metadata": {},
   "outputs": [
    {
     "name": "stdout",
     "output_type": "stream",
     "text": [
      "Help on function select in module python.dtree:\n",
      "\n",
      "select(dataset, attribute, value)\n",
      "    Return subset of data samples where the attribute has the given value\n",
      "\n"
     ]
    }
   ],
   "source": [
    "help(dtree.select)"
   ]
  },
  {
   "cell_type": "code",
   "execution_count": 21,
   "metadata": {},
   "outputs": [],
   "source": [
    "m1_A5_1 = dtree.select(monkdata.monk1, monkdata.attributes[4], 1)\n",
    "m1_A5_2 = dtree.select(monkdata.monk1, monkdata.attributes[4], 2)\n",
    "m1_A5_3 = dtree.select(monkdata.monk1, monkdata.attributes[4], 3)\n",
    "m1_A5_4 = dtree.select(monkdata.monk1, monkdata.attributes[4], 4)"
   ]
  },
  {
   "cell_type": "code",
   "execution_count": 22,
   "metadata": {},
   "outputs": [
    {
     "data": {
      "text/html": [
       "<div>\n",
       "<style scoped>\n",
       "    .dataframe tbody tr th:only-of-type {\n",
       "        vertical-align: middle;\n",
       "    }\n",
       "\n",
       "    .dataframe tbody tr th {\n",
       "        vertical-align: top;\n",
       "    }\n",
       "\n",
       "    .dataframe thead th {\n",
       "        text-align: right;\n",
       "    }\n",
       "</style>\n",
       "<table border=\"1\" class=\"dataframe\">\n",
       "  <thead>\n",
       "    <tr style=\"text-align: right;\">\n",
       "      <th></th>\n",
       "      <th>1</th>\n",
       "      <th>2</th>\n",
       "      <th>3</th>\n",
       "      <th>4</th>\n",
       "      <th>5</th>\n",
       "      <th>6</th>\n",
       "    </tr>\n",
       "  </thead>\n",
       "  <tbody>\n",
       "    <tr>\n",
       "      <th>0</th>\n",
       "      <td>0.000000</td>\n",
       "      <td>0.000000</td>\n",
       "      <td>0.000000</td>\n",
       "      <td>0.000000</td>\n",
       "      <td>0.0</td>\n",
       "      <td>0.000000</td>\n",
       "    </tr>\n",
       "    <tr>\n",
       "      <th>1</th>\n",
       "      <td>0.040217</td>\n",
       "      <td>0.015063</td>\n",
       "      <td>0.037273</td>\n",
       "      <td>0.048892</td>\n",
       "      <td>0.0</td>\n",
       "      <td>0.025807</td>\n",
       "    </tr>\n",
       "    <tr>\n",
       "      <th>2</th>\n",
       "      <td>0.033055</td>\n",
       "      <td>0.002197</td>\n",
       "      <td>0.017982</td>\n",
       "      <td>0.019123</td>\n",
       "      <td>0.0</td>\n",
       "      <td>0.045109</td>\n",
       "    </tr>\n",
       "    <tr>\n",
       "      <th>3</th>\n",
       "      <td>0.206291</td>\n",
       "      <td>0.033898</td>\n",
       "      <td>0.025906</td>\n",
       "      <td>0.075933</td>\n",
       "      <td>0.0</td>\n",
       "      <td>0.003324</td>\n",
       "    </tr>\n",
       "  </tbody>\n",
       "</table>\n",
       "</div>"
      ],
      "text/plain": [
       "          1         2         3         4    5         6\n",
       "0  0.000000  0.000000  0.000000  0.000000  0.0  0.000000\n",
       "1  0.040217  0.015063  0.037273  0.048892  0.0  0.025807\n",
       "2  0.033055  0.002197  0.017982  0.019123  0.0  0.045109\n",
       "3  0.206291  0.033898  0.025906  0.075933  0.0  0.003324"
      ]
     },
     "execution_count": 22,
     "metadata": {},
     "output_type": "execute_result"
    }
   ],
   "source": [
    "df = pd.DataFrame(columns=[str(i) for i in range(1, 7)])\n",
    "for i, dataset in enumerate([m1_A5_1, m1_A5_2, m1_A5_3, m1_A5_4]):\n",
    "    gain = []\n",
    "    for attribute in monkdata.attributes:\n",
    "        gain.append(dtree.averageGain(dataset, attribute))\n",
    "    df.loc[i] = gain\n",
    "df"
   ]
  },
  {
   "cell_type": "markdown",
   "metadata": {},
   "source": [
    "In this next level, the nodes tested should be the ones with the highest information gain. Disregarding the first (empty) dataset, the attributes to test are: $a_4$, $a_6$, and $a_1$."
   ]
  },
  {
   "cell_type": "code",
   "execution_count": 23,
   "metadata": {},
   "outputs": [
    {
     "data": {
      "text/plain": [
       "False"
      ]
     },
     "execution_count": 23,
     "metadata": {},
     "output_type": "execute_result"
    }
   ],
   "source": [
    "dtree.mostCommon(m1_A5_2)"
   ]
  },
  {
   "cell_type": "code",
   "execution_count": 24,
   "metadata": {},
   "outputs": [
    {
     "data": {
      "text/plain": [
       "False"
      ]
     },
     "execution_count": 24,
     "metadata": {},
     "output_type": "execute_result"
    }
   ],
   "source": [
    "dtree.mostCommon(m1_A5_3)"
   ]
  },
  {
   "cell_type": "code",
   "execution_count": 25,
   "metadata": {},
   "outputs": [
    {
     "data": {
      "text/plain": [
       "False"
      ]
     },
     "execution_count": 25,
     "metadata": {},
     "output_type": "execute_result"
    }
   ],
   "source": [
    "dtree.mostCommon(m1_A5_4)"
   ]
  },
  {
   "cell_type": "markdown",
   "metadata": {},
   "source": [
    "```\n",
    "                A5\n",
    "  +-------+------+--------+-------+\n",
    "  |       |               |       |\n",
    "  T      A4              A6      A1\n",
    "          |               |       |\n",
    "          F               F       F\n",
    "```"
   ]
  },
  {
   "cell_type": "code",
   "execution_count": 26,
   "metadata": {},
   "outputs": [],
   "source": [
    "m1_tree = dtree.buildTree(monkdata.monk1, monkdata.attributes)"
   ]
  },
  {
   "cell_type": "code",
   "execution_count": 27,
   "metadata": {},
   "outputs": [],
   "source": [
    "import python.drawtree_qt5 as drawtree"
   ]
  },
  {
   "cell_type": "code",
   "execution_count": 29,
   "metadata": {},
   "outputs": [
    {
     "ename": "SystemExit",
     "evalue": "0",
     "output_type": "error",
     "traceback": [
      "An exception has occurred, use %tb to see the full traceback.\n",
      "\u001b[0;31mSystemExit\u001b[0m\u001b[0;31m:\u001b[0m 0\n"
     ]
    }
   ],
   "source": [
    "drawtree.drawTree(m1_tree)"
   ]
  },
  {
   "cell_type": "code",
   "execution_count": 30,
   "metadata": {},
   "outputs": [
    {
     "data": {
      "text/html": [
       "<div>\n",
       "<style scoped>\n",
       "    .dataframe tbody tr th:only-of-type {\n",
       "        vertical-align: middle;\n",
       "    }\n",
       "\n",
       "    .dataframe tbody tr th {\n",
       "        vertical-align: top;\n",
       "    }\n",
       "\n",
       "    .dataframe thead th {\n",
       "        text-align: right;\n",
       "    }\n",
       "</style>\n",
       "<table border=\"1\" class=\"dataframe\">\n",
       "  <thead>\n",
       "    <tr style=\"text-align: right;\">\n",
       "      <th></th>\n",
       "      <th>Train</th>\n",
       "      <th>Test</th>\n",
       "    </tr>\n",
       "  </thead>\n",
       "  <tbody>\n",
       "    <tr>\n",
       "      <th>0</th>\n",
       "      <td>1.0</td>\n",
       "      <td>0.828704</td>\n",
       "    </tr>\n",
       "    <tr>\n",
       "      <th>1</th>\n",
       "      <td>1.0</td>\n",
       "      <td>0.692130</td>\n",
       "    </tr>\n",
       "    <tr>\n",
       "      <th>2</th>\n",
       "      <td>1.0</td>\n",
       "      <td>0.944444</td>\n",
       "    </tr>\n",
       "  </tbody>\n",
       "</table>\n",
       "</div>"
      ],
      "text/plain": [
       "   Train      Test\n",
       "0    1.0  0.828704\n",
       "1    1.0  0.692130\n",
       "2    1.0  0.944444"
      ]
     },
     "execution_count": 30,
     "metadata": {},
     "output_type": "execute_result"
    }
   ],
   "source": [
    "df = pd.DataFrame(columns=[\"Train\", \"Test\"])\n",
    "for i, (train, test) in enumerate([(monkdata.monk1, monkdata.monk1test), (monkdata.monk2, monkdata.monk2test), (monkdata.monk3, monkdata.monk3test)]):\n",
    "    gain = []\n",
    "    tree = dtree.buildTree(train, monkdata.attributes)\n",
    "    score_train = dtree.check(tree, train)\n",
    "    score_test = dtree.check(tree, test)\n",
    "    df.loc[i] = [score_train, score_test]\n",
    "df"
   ]
  },
  {
   "cell_type": "markdown",
   "metadata": {},
   "source": [
    "## Assignment 6"
   ]
  },
  {
   "cell_type": "markdown",
   "metadata": {},
   "source": []
  },
  {
   "cell_type": "markdown",
   "metadata": {},
   "source": [
    "## Assignment 7"
   ]
  },
  {
   "cell_type": "code",
   "execution_count": 16,
   "metadata": {},
   "outputs": [],
   "source": [
    "import random\n",
    "def partition(data, fraction):\n",
    "    ldata = list(data)\n",
    "    random.shuffle(ldata)\n",
    "    breakPoint = int(len(ldata) * fraction)\n",
    "    return ldata[:breakPoint], ldata[breakPoint:]"
   ]
  },
  {
   "cell_type": "code",
   "execution_count": null,
   "metadata": {},
   "outputs": [],
   "source": []
  },
  {
   "cell_type": "code",
   "execution_count": 20,
   "metadata": {},
   "outputs": [],
   "source": [
    "def create_trees(fraction):\n",
    "    monk1train, monk1val = partition(monkdata.monk1, fraction)\n",
    "    monk2train, monk2val = partition(monkdata.monk2, fraction)\n",
    "    monk3train, monk3val = partition(monkdata.monk3, fraction)\n",
    "    trees = []\n",
    "    for i, (train, val) in enumerate([(monk1train, monk1val), (monk2train, monk2val), (monk3train, monk3val)]):\n",
    "        tree = dtree.buildTree(train, monkdata.attributes)\n",
    "        score = dtree.check(tree, val)\n",
    "        while True:\n",
    "            p_score = 0\n",
    "            p_tree = tree\n",
    "            for pruned in dtree.allPruned(tree):\n",
    "                current_score = dtree.check(tree, val)\n",
    "                if current_score > p_score:\n",
    "                    p_score = current_score\n",
    "                    p_tree = pruned\n",
    "            if p_score <= score:\n",
    "                trees.append(p_tree)\n",
    "                break\n",
    "    return trees"
   ]
  },
  {
   "cell_type": "code",
   "execution_count": 21,
   "metadata": {},
   "outputs": [],
   "source": [
    "def test_trees(trees):\n",
    "    df = pd.DataFrame(columns=[\"Train\", \"Test\"])\n",
    "    for i, (train, test) in enumerate([(monkdata.monk1, monkdata.monk1test), (monkdata.monk2, monkdata.monk2test), (monkdata.monk3, monkdata.monk3test)]):\n",
    "        gain = []\n",
    "        tree = trees[i]\n",
    "        score_train = dtree.check(tree, train)\n",
    "        score_test = dtree.check(tree, test)\n",
    "        df.loc[i] = [score_train, score_test]\n",
    "    return df"
   ]
  },
  {
   "cell_type": "code",
   "execution_count": 65,
   "metadata": {},
   "outputs": [],
   "source": [
    "res = []\n",
    "for fraction in np.arange(0.3, 0.81, 0.1):\n",
    "    trees = create_trees(fraction)\n",
    "    res.append(test_trees(trees))"
   ]
  },
  {
   "cell_type": "code",
   "execution_count": 26,
   "metadata": {},
   "source": [
    "res = []\n",
    "for fraction in np.arange(0.3, 0.81, 0.1):\n",
    "    trees = create_trees(fraction)\n",
    "    res.append(test_trees(trees))\n",
    "res"
   ]
  },
  {
   "cell_type": "code",
   "execution_count": 27,
   "metadata": {},
   "outputs": [
    {
     "data": {
      "text/html": [
       "<div>\n",
       "<style scoped>\n",
       "    .dataframe tbody tr th:only-of-type {\n",
       "        vertical-align: middle;\n",
       "    }\n",
       "\n",
       "    .dataframe tbody tr th {\n",
       "        vertical-align: top;\n",
       "    }\n",
       "\n",
       "    .dataframe thead th {\n",
       "        text-align: right;\n",
       "    }\n",
       "</style>\n",
       "<table border=\"1\" class=\"dataframe\">\n",
       "  <thead>\n",
       "    <tr style=\"text-align: right;\">\n",
       "      <th></th>\n",
       "      <th>Train</th>\n",
       "      <th>Test</th>\n",
       "    </tr>\n",
       "  </thead>\n",
       "  <tbody>\n",
       "    <tr>\n",
       "      <th>0</th>\n",
       "      <td>0.500000</td>\n",
       "      <td>0.500000</td>\n",
       "    </tr>\n",
       "    <tr>\n",
       "      <th>1</th>\n",
       "      <td>0.621302</td>\n",
       "      <td>0.671296</td>\n",
       "    </tr>\n",
       "    <tr>\n",
       "      <th>2</th>\n",
       "      <td>0.491803</td>\n",
       "      <td>0.527778</td>\n",
       "    </tr>\n",
       "  </tbody>\n",
       "</table>\n",
       "</div>"
      ],
      "text/plain": [
       "      Train      Test\n",
       "0  0.500000  0.500000\n",
       "1  0.621302  0.671296\n",
       "2  0.508197  0.472222"
      ]
     },
     "metadata": {},
     "output_type": "execute_result"
    }
   ],
   "source": [
    "res[0]"
   ]
  },
  {
   "cell_type": "code",
   "execution_count": 31,
   "metadata": {},
   "outputs": [
    {
     "data": {
      "text/html": [
       "<div>\n",
       "<style scoped>\n",
       "    .dataframe tbody tr th:only-of-type {\n",
       "        vertical-align: middle;\n",
       "    }\n",
       "\n",
       "    .dataframe tbody tr th {\n",
       "        vertical-align: top;\n",
       "    }\n",
       "\n",
       "    .dataframe thead th {\n",
       "        text-align: right;\n",
       "    }\n",
       "</style>\n",
       "<table border=\"1\" class=\"dataframe\">\n",
       "  <thead>\n",
       "    <tr style=\"text-align: right;\">\n",
       "      <th></th>\n",
       "      <th>Train</th>\n",
       "      <th>Test</th>\n",
       "    </tr>\n",
       "  </thead>\n",
       "  <tbody>\n",
       "    <tr>\n",
       "      <th>0</th>\n",
       "      <td>0.500000</td>\n",
       "      <td>0.500000</td>\n",
       "    </tr>\n",
       "    <tr>\n",
       "      <th>1</th>\n",
       "      <td>0.621302</td>\n",
       "      <td>0.671296</td>\n",
       "    </tr>\n",
       "    <tr>\n",
       "      <th>2</th>\n",
       "      <td>0.508197</td>\n",
       "      <td>0.472222</td>\n",
       "    </tr>\n",
       "  </tbody>\n",
       "</table>\n",
       "</div>"
      ],
      "text/plain": [
       "      Train      Test\n",
       "0  0.500000  0.500000\n",
       "1  0.621302  0.671296\n",
       "2  0.508197  0.472222"
      ]
     },
     "execution_count": 31,
     "metadata": {},
     "output_type": "execute_result"
    }
   ],
   "source": [
    "res[3]"
   ]
  },
  {
   "cell_type": "code",
   "execution_count": null,
   "metadata": {},
   "outputs": [],
   "source": []
  }
 ],
 "metadata": {
  "kernelspec": {
   "display_name": "Python 3",
   "language": "python",
   "name": "python3"
  },
  "language_info": {
   "codemirror_mode": {
    "name": "ipython",
    "version": 3
   },
   "file_extension": ".py",
   "mimetype": "text/x-python",
   "name": "python",
   "nbconvert_exporter": "python",
   "pygments_lexer": "ipython3",
   "version": "3.7.4+"
  }
 },
 "nbformat": 4,
 "nbformat_minor": 4
}
